{
 "cells": [
  {
   "cell_type": "markdown",
   "metadata": {},
   "source": [
    "## 任务5 - 模型调优（2天）\n",
    "任务5：使用网格搜索法对5个模型进行调优（调参时采用五折交叉验证的方式），并进行模型评估，记得展示代码的运行结果。 时间：2天\n",
    "\n"
   ]
  },
  {
   "cell_type": "markdown",
   "metadata": {},
   "source": [
    "## 任务5：使用网格搜索法对5个模型进行调优（调参时采用五折交叉验证的方式），并进行模型评估。"
   ]
  },
  {
   "cell_type": "markdown",
   "metadata": {},
   "source": [
    "### 数据载入"
   ]
  },
  {
   "cell_type": "code",
   "execution_count": 1,
   "metadata": {},
   "outputs": [
    {
     "name": "stderr",
     "output_type": "stream",
     "text": [
      "D:\\Anaconda2\\lib\\site-packages\\sklearn\\preprocessing\\data.py:645: DataConversionWarning: Data with input dtype uint8, int64, float64 were all converted to float64 by StandardScaler.\n",
      "  return self.partial_fit(X, y)\n",
      "D:\\Anaconda2\\lib\\site-packages\\sklearn\\base.py:464: DataConversionWarning: Data with input dtype uint8, int64, float64 were all converted to float64 by StandardScaler.\n",
      "  return self.fit(X, **fit_params).transform(X)\n",
      "D:\\Anaconda2\\lib\\site-packages\\ipykernel_launcher.py:19: DataConversionWarning: Data with input dtype uint8, int64, float64 were all converted to float64 by StandardScaler.\n"
     ]
    }
   ],
   "source": [
    "import pickle\n",
    "import pandas as pd\n",
    "from sklearn.model_selection import train_test_split\n",
    "from sklearn.preprocessing import StandardScaler\n",
    "\n",
    "# 载入数据\n",
    "with open('final.pkl', 'rb') as f:\n",
    "    final_data = pickle.load(f)\n",
    "# data = pd.read_csv(\"./data.csv\",encoding='gbk')\n",
    "# y=data.status\n",
    "# 划分训练集测试集\n",
    "X, y = final_data[final_data.columns.drop(\"status\")], final_data['status']\n",
    "X_train, X_test, y_train, y_test = train_test_split(X, y, test_size=0.3, random_state=2018)\n",
    "\n",
    "\n",
    "# 特征归一化\n",
    "std = StandardScaler()\n",
    "X_train = std.fit_transform(X_train)\n",
    "X_test = std.transform(X_test)"
   ]
  },
  {
   "cell_type": "markdown",
   "metadata": {},
   "source": [
    "### 模型评估"
   ]
  },
  {
   "cell_type": "code",
   "execution_count": 2,
   "metadata": {},
   "outputs": [],
   "source": [
    "from sklearn.metrics import accuracy_score, precision_score, recall_score, f1_score\n",
    "from sklearn.metrics import roc_auc_score,roc_curve, auc\n",
    "import matplotlib.pyplot as plt\n",
    "%matplotlib inline\n",
    "model_score_train = []\n",
    "roc_score_train = []\n",
    "model_score_test = []\n",
    "roc_score_test = []"
   ]
  },
  {
   "cell_type": "code",
   "execution_count": 3,
   "metadata": {},
   "outputs": [],
   "source": [
    "from sklearn.metrics import accuracy_score, roc_auc_score,precision_score\n",
    "\n",
    "def model_metrics(clf, X_train, X_test, y_train, y_test):\n",
    "    # 预测\n",
    "    y_train_pred = clf.predict(X_train)\n",
    "    y_test_pred = clf.predict(X_test)\n",
    "    \n",
    "    y_train_proba = clf.predict_proba(X_train)[:,1]\n",
    "    y_test_proba = clf.predict_proba(X_test)[:,1]\n",
    "    \n",
    "    \n",
    "    # 准确率\n",
    "    print(u'[准确率]')\n",
    "    print(u'训练集：'+ '%.4f'%accuracy_score(y_train, y_train_pred))\n",
    "    print(u'测试集：'+ '%.4f'%accuracy_score(y_test, y_test_pred))\n",
    "    \n",
    "    # 精准率\n",
    "    print(u'[精准率]')\n",
    "    print(u'训练集：'+ '%.4f'%precision_score(y_train, y_train_pred))\n",
    "    print(u'测试集：'+ '%.4f'%precision_score(y_test, y_test_pred))\n",
    "\n",
    "    # 召回率\n",
    "    print(u'[召回率]')\n",
    "    print(u'训练集：'+ '%.4f'%recall_score(y_train, y_train_pred))\n",
    "    print(u'测试集：'+ '%.4f'%recall_score(y_test, y_test_pred))\n",
    "    \n",
    "    # f1-score\n",
    "    print(u'[f1-score]')\n",
    "    print(u'训练集：'+ '%.4f'%f1_score(y_train, y_train_pred))\n",
    "    print(u'测试集：'+ '%.4f'%f1_score(y_test, y_test_pred))\n",
    "    \n",
    "    # auc取值：用roc_auc_score或auc\n",
    "    print(u'[auc值]')\n",
    "    print(u'训练集：'+ '%.4f'%roc_auc_score(y_train, y_train_proba))\n",
    "    print(u'测试集：'+ '%.4f'%roc_auc_score(y_test, y_test_proba))"
   ]
  },
  {
   "cell_type": "code",
   "execution_count": 4,
   "metadata": {},
   "outputs": [],
   "source": [
    "from sklearn.model_selection import GridSearchCV\n",
    "from sklearn.linear_model import LogisticRegression\n",
    "from sklearn import svm\n",
    "from sklearn.tree import DecisionTreeClassifier\n",
    "from xgboost.sklearn import XGBClassifier\n",
    "from lightgbm.sklearn import LGBMClassifier"
   ]
  },
  {
   "cell_type": "markdown",
   "metadata": {},
   "source": [
    "### LR模型"
   ]
  },
  {
   "cell_type": "code",
   "execution_count": 5,
   "metadata": {},
   "outputs": [
    {
     "name": "stderr",
     "output_type": "stream",
     "text": [
      "D:\\Anaconda2\\lib\\site-packages\\sklearn\\linear_model\\logistic.py:433: FutureWarning: Default solver will be changed to 'lbfgs' in 0.22. Specify a solver to silence this warning.\n",
      "  FutureWarning)\n"
     ]
    },
    {
     "name": "stdout",
     "output_type": "stream",
     "text": [
      "('\\xe6\\x9c\\x80\\xe4\\xbd\\xb3\\xe5\\x8f\\x82\\xe6\\x95\\xb0\\xef\\xbc\\x9a', {'penalty': 'l1', 'C': 0.1})\n",
      "('\\xe8\\xae\\xad\\xe7\\xbb\\x83\\xe9\\x9b\\x86\\xe7\\x9a\\x84\\xe6\\x9c\\x80\\xe4\\xbd\\xb3\\xe5\\x88\\x86\\xe6\\x95\\xb0\\xef\\xbc\\x9a', 0.7920261042203866)\n",
      "('\\xe6\\xb5\\x8b\\xe8\\xaf\\x95\\xe9\\x9b\\x86\\xe7\\x9a\\x84\\xe6\\x9c\\x80\\xe4\\xbd\\xb3\\xe5\\x88\\x86\\xe6\\x95\\xb0\\xef\\xbc\\x9a', 0.7794330902527828)\n"
     ]
    }
   ],
   "source": [
    "lr = LogisticRegression()\n",
    "param = {'C': [1e-3,0.01,0.1,1,10,100,1e3], 'penalty':['l1', 'l2']}\n",
    "\n",
    "gsearch = GridSearchCV(lr, param_grid = param,scoring ='roc_auc', cv=5)\n",
    "gsearch.fit(X_train, y_train)\n",
    "\n",
    "print('最佳参数：',gsearch.best_params_)\n",
    "print('训练集的最佳分数：', gsearch.best_score_)\n",
    "print('测试集的最佳分数：', gsearch.score(X_test, y_test))"
   ]
  },
  {
   "cell_type": "code",
   "execution_count": 6,
   "metadata": {},
   "outputs": [
    {
     "name": "stdout",
     "output_type": "stream",
     "text": [
      "[准确率]\n",
      "训练集：0.8031\n",
      "测试集：0.7884\n",
      "[精准率]\n",
      "训练集：0.7096\n",
      "测试集：0.6667\n",
      "[召回率]\n",
      "训练集：0.3633\n",
      "测试集：0.3175\n",
      "[f1-score]\n",
      "训练集：0.4806\n",
      "测试集：0.4302\n",
      "[auc值]\n",
      "训练集：0.8147\n",
      "测试集：0.7757\n"
     ]
    }
   ],
   "source": [
    "lr = LogisticRegression(C = 0.01, penalty = 'l2')\n",
    "lr.fit(X_train, y_train)\n",
    "model_metrics(lr, X_train, X_test, y_train, y_test)"
   ]
  },
  {
   "cell_type": "markdown",
   "metadata": {},
   "source": [
    "### SVM模型\n",
    "    \n",
    "    调参范围可设为'gamma':[0.001,0.01,0.1,1,10,100], 'C':[0.001,0.01,0.1,1,10,100]}。鉴于时间原因, 下面网格搜索时选用较小区间。"
   ]
  },
  {
   "cell_type": "code",
   "execution_count": 7,
   "metadata": {},
   "outputs": [
    {
     "name": "stdout",
     "output_type": "stream",
     "text": [
      "('\\xe6\\x9c\\x80\\xe4\\xbd\\xb3\\xe5\\x8f\\x82\\xe6\\x95\\xb0\\xef\\xbc\\x9a', {'C': 0.01})\n",
      "('\\xe8\\xae\\xad\\xe7\\xbb\\x83\\xe9\\x9b\\x86\\xe7\\x9a\\x84\\xe6\\x9c\\x80\\xe4\\xbd\\xb3\\xe5\\x88\\x86\\xe6\\x95\\xb0\\xef\\xbc\\x9a', 0.7959313069304018)\n",
      "('\\xe6\\xb5\\x8b\\xe8\\xaf\\x95\\xe9\\x9b\\x86\\xe7\\x9a\\x84\\xe6\\x9c\\x80\\xe4\\xbd\\xb3\\xe5\\x88\\x86\\xe6\\x95\\xb0\\xef\\xbc\\x9a', 0.7806041542779046)\n"
     ]
    }
   ],
   "source": [
    "# 线性SVM\n",
    "svm_linear = svm.SVC(kernel = 'linear', probability=True)\n",
    "param = {'C':[0.01,0.1,1]}\n",
    "gsearch = GridSearchCV(svm_linear, param_grid = param,scoring ='roc_auc', cv=5)\n",
    "gsearch.fit(X_train, y_train)\n",
    "\n",
    "print('最佳参数：',gsearch.best_params_)\n",
    "print('训练集的最佳分数：', gsearch.best_score_)\n",
    "print('测试集的最佳分数：', gsearch.score(X_test, y_test))"
   ]
  },
  {
   "cell_type": "code",
   "execution_count": 8,
   "metadata": {},
   "outputs": [
    {
     "name": "stdout",
     "output_type": "stream",
     "text": [
      "[准确率]\n",
      "训练集：0.7998\n",
      "测试集：0.7758\n",
      "[精准率]\n",
      "训练集：0.7897\n",
      "测试集：0.6757\n",
      "[召回率]\n",
      "训练集：0.2746\n",
      "测试集：0.2089\n",
      "[f1-score]\n",
      "训练集：0.4075\n",
      "测试集：0.3191\n",
      "[auc值]\n",
      "训练集：0.8156\n",
      "测试集：0.7806\n"
     ]
    }
   ],
   "source": [
    "svm_linear = svm.SVC(C = 0.01, kernel = 'linear', probability=True)\n",
    "svm_linear.fit(X_train, y_train)\n",
    "model_metrics(svm_linear, X_train, X_test, y_train, y_test)"
   ]
  },
  {
   "cell_type": "code",
   "execution_count": 9,
   "metadata": {},
   "outputs": [
    {
     "name": "stderr",
     "output_type": "stream",
     "text": [
      "D:\\Anaconda2\\lib\\site-packages\\sklearn\\svm\\base.py:196: FutureWarning: The default value of gamma will change from 'auto' to 'scale' in version 0.22 to account better for unscaled features. Set gamma explicitly to 'auto' or 'scale' to avoid this warning.\n",
      "  \"avoid this warning.\", FutureWarning)\n"
     ]
    },
    {
     "name": "stdout",
     "output_type": "stream",
     "text": [
      "('\\xe6\\x9c\\x80\\xe4\\xbd\\xb3\\xe5\\x8f\\x82\\xe6\\x95\\xb0\\xef\\xbc\\x9a', {'C': 0.01})\n",
      "('\\xe8\\xae\\xad\\xe7\\xbb\\x83\\xe9\\x9b\\x86\\xe7\\x9a\\x84\\xe6\\x9c\\x80\\xe4\\xbd\\xb3\\xe5\\x88\\x86\\xe6\\x95\\xb0\\xef\\xbc\\x9a', 0.7444664162105683)\n",
      "('\\xe6\\xb5\\x8b\\xe8\\xaf\\x95\\xe9\\x9b\\x86\\xe7\\x9a\\x84\\xe6\\x9c\\x80\\xe4\\xbd\\xb3\\xe5\\x88\\x86\\xe6\\x95\\xb0\\xef\\xbc\\x9a', 0.7307048292698194)\n"
     ]
    }
   ],
   "source": [
    "# 多项式SVM\n",
    "svm_poly = svm.SVC(kernel = 'poly', probability=True)\n",
    "param = {'C':[0.01,0.1,1]}\n",
    "gsearch = GridSearchCV(svm_poly, param_grid = param,scoring ='roc_auc', cv=5)\n",
    "gsearch.fit(X_train, y_train)\n",
    "\n",
    "print('最佳参数：',gsearch.best_params_)\n",
    "print('训练集的最佳分数：', gsearch.best_score_)\n",
    "print('测试集的最佳分数：', gsearch.score(X_test, y_test))"
   ]
  },
  {
   "cell_type": "code",
   "execution_count": 10,
   "metadata": {},
   "outputs": [
    {
     "name": "stdout",
     "output_type": "stream",
     "text": [
      "[准确率]\n",
      "训练集：0.7571\n",
      "测试集：0.7505\n",
      "[精准率]\n",
      "训练集：1.0000\n",
      "测试集：0.6364\n",
      "[召回率]\n",
      "训练集：0.0312\n",
      "测试集：0.0195\n",
      "[f1-score]\n",
      "训练集：0.0605\n",
      "测试集：0.0378\n",
      "[auc值]\n",
      "训练集：0.8658\n",
      "测试集：0.7307\n"
     ]
    }
   ],
   "source": [
    "svm_poly =  svm.SVC(C = 0.01, kernel = 'poly', probability=True)\n",
    "svm_poly.fit(X_train, y_train)\n",
    "model_metrics(svm_poly, X_train, X_test, y_train, y_test)"
   ]
  },
  {
   "cell_type": "code",
   "execution_count": 11,
   "metadata": {},
   "outputs": [
    {
     "name": "stdout",
     "output_type": "stream",
     "text": [
      "('\\xe6\\x9c\\x80\\xe4\\xbd\\xb3\\xe5\\x8f\\x82\\xe6\\x95\\xb0\\xef\\xbc\\x9a', {'C': 0.01, 'gamma': 0.01})\n",
      "('\\xe8\\xae\\xad\\xe7\\xbb\\x83\\xe9\\x9b\\x86\\xe7\\x9a\\x84\\xe6\\x9c\\x80\\xe4\\xbd\\xb3\\xe5\\x88\\x86\\xe6\\x95\\xb0\\xef\\xbc\\x9a', 0.7466917074276515)\n",
      "('\\xe6\\xb5\\x8b\\xe8\\xaf\\x95\\xe9\\x9b\\x86\\xe7\\x9a\\x84\\xe6\\x9c\\x80\\xe4\\xbd\\xb3\\xe5\\x88\\x86\\xe6\\x95\\xb0\\xef\\xbc\\x9a', 0.7342441029493079)\n"
     ]
    }
   ],
   "source": [
    "# 高斯SVM\n",
    "svm_rbf = svm.SVC(probability=True)\n",
    "param = {'gamma':[0.01,0.1,1,10], \n",
    "         'C':[0.01,0.1,1]}\n",
    "gsearch = GridSearchCV(svm_poly, param_grid = param,scoring ='roc_auc', cv=5)\n",
    "gsearch.fit(X_train, y_train)\n",
    "\n",
    "print('最佳参数：',gsearch.best_params_)\n",
    "print('训练集的最佳分数：', gsearch.best_score_)\n",
    "print('测试集的最佳分数：', gsearch.score(X_test, y_test))"
   ]
  },
  {
   "cell_type": "code",
   "execution_count": 12,
   "metadata": {},
   "outputs": [
    {
     "name": "stdout",
     "output_type": "stream",
     "text": [
      "[准确率]\n",
      "训练集：0.7493\n",
      "测试集：0.7484\n",
      "[精准率]\n",
      "训练集：0.0000\n",
      "测试集：0.0000\n",
      "[召回率]\n",
      "训练集：0.0000\n",
      "测试集：0.0000\n",
      "[f1-score]\n",
      "训练集：0.0000\n",
      "测试集：0.0000\n",
      "[auc值]\n",
      "训练集：0.8510\n",
      "测试集：0.7681\n"
     ]
    },
    {
     "name": "stderr",
     "output_type": "stream",
     "text": [
      "D:\\Anaconda2\\lib\\site-packages\\sklearn\\metrics\\classification.py:1143: UndefinedMetricWarning: Precision is ill-defined and being set to 0.0 due to no predicted samples.\n",
      "  'precision', 'predicted', average, warn_for)\n",
      "D:\\Anaconda2\\lib\\site-packages\\sklearn\\metrics\\classification.py:1143: UndefinedMetricWarning: F-score is ill-defined and being set to 0.0 due to no predicted samples.\n",
      "  'precision', 'predicted', average, warn_for)\n"
     ]
    }
   ],
   "source": [
    "svm_rbf =  svm.SVC(gamma = 0.01, C =0.01 , probability=True)\n",
    "svm_rbf.fit(X_train, y_train)\n",
    "model_metrics(svm_rbf, X_train, X_test, y_train, y_test)\n"
   ]
  },
  {
   "cell_type": "code",
   "execution_count": 13,
   "metadata": {},
   "outputs": [
    {
     "name": "stdout",
     "output_type": "stream",
     "text": [
      "('\\xe6\\x9c\\x80\\xe4\\xbd\\xb3\\xe5\\x8f\\x82\\xe6\\x95\\xb0\\xef\\xbc\\x9a', {'C': 0.01})\n",
      "('\\xe8\\xae\\xad\\xe7\\xbb\\x83\\xe9\\x9b\\x86\\xe7\\x9a\\x84\\xe6\\x9c\\x80\\xe4\\xbd\\xb3\\xe5\\x88\\x86\\xe6\\x95\\xb0\\xef\\xbc\\x9a', 0.7754756970987209)\n",
      "('\\xe6\\xb5\\x8b\\xe8\\xaf\\x95\\xe9\\x9b\\x86\\xe7\\x9a\\x84\\xe6\\x9c\\x80\\xe4\\xbd\\xb3\\xe5\\x88\\x86\\xe6\\x95\\xb0\\xef\\xbc\\x9a', 0.7672503729669391)\n"
     ]
    }
   ],
   "source": [
    "# sigmoid - SVM\n",
    "svm_sigmoid = svm.SVC(kernel = 'sigmoid',probability=True)\n",
    "param = {'C':[0.01,0.1,1]}\n",
    "gsearch = GridSearchCV(svm_sigmoid, param_grid = param,scoring ='roc_auc', cv=5)\n",
    "gsearch.fit(X_train, y_train)\n",
    "\n",
    "print('最佳参数：',gsearch.best_params_)\n",
    "print('训练集的最佳分数：', gsearch.best_score_)\n",
    "print('测试集的最佳分数：', gsearch.score(X_test, y_test))"
   ]
  },
  {
   "cell_type": "code",
   "execution_count": 14,
   "metadata": {},
   "outputs": [
    {
     "name": "stdout",
     "output_type": "stream",
     "text": [
      "[准确率]\n",
      "训练集：0.7493\n",
      "测试集：0.7484\n",
      "[精准率]\n",
      "训练集：0.0000\n",
      "测试集：0.0000\n",
      "[召回率]\n",
      "训练集：0.0000\n",
      "测试集：0.0000\n",
      "[f1-score]\n",
      "训练集：0.0000\n",
      "测试集：0.0000\n",
      "[auc值]\n",
      "训练集：0.7784\n",
      "测试集：0.7673\n"
     ]
    }
   ],
   "source": [
    "svm_sigmoid =  svm.SVC(C = 0.01, kernel = 'sigmoid',probability=True)\n",
    "svm_sigmoid.fit(X_train, y_train)\n",
    "model_metrics(svm_sigmoid, X_train, X_test, y_train, y_test)"
   ]
  },
  {
   "cell_type": "markdown",
   "metadata": {},
   "source": [
    "### 决策树"
   ]
  },
  {
   "cell_type": "markdown",
   "metadata": {},
   "source": [
    "1）首先对决策树最大深度max_depth和内部节点再划分所需最小样本数min_samples_split进行网格搜索。"
   ]
  },
  {
   "cell_type": "code",
   "execution_count": 15,
   "metadata": {},
   "outputs": [
    {
     "data": {
      "text/plain": [
       "({'max_depth': 13, 'min_samples_split': 100}, 0.7085909474219738)"
      ]
     },
     "execution_count": 15,
     "metadata": {},
     "output_type": "execute_result"
    }
   ],
   "source": [
    "param = {'max_depth':range(3,14,2), 'min_samples_split':range(100,801,200)}\n",
    "gsearch = GridSearchCV(DecisionTreeClassifier(max_depth=8,min_samples_split=300,min_samples_leaf=20, max_features='sqrt',random_state =2333),\n",
    "                       param_grid = param,scoring ='roc_auc', cv=5)\n",
    "\n",
    "gsearch.fit(X_train, y_train)\n",
    "# gsearch.grid_scores_, \n",
    "gsearch.best_params_, gsearch.best_score_"
   ]
  },
  {
   "cell_type": "markdown",
   "metadata": {},
   "source": [
    "2）对内部节点再划分所需最小样本数min_samples_split和叶子节点最少样本数min_samples_leaf一起调参。"
   ]
  },
  {
   "cell_type": "code",
   "execution_count": 16,
   "metadata": {},
   "outputs": [
    {
     "data": {
      "text/plain": [
       "({'min_samples_leaf': 70, 'min_samples_split': 50}, 0.7034962764263947)"
      ]
     },
     "execution_count": 16,
     "metadata": {},
     "output_type": "execute_result"
    }
   ],
   "source": [
    "param = {'min_samples_split':range(50,1000,100), 'min_samples_leaf':range(60,101,10)}\n",
    "gsearch = GridSearchCV(DecisionTreeClassifier(max_depth=11,min_samples_split=100,min_samples_leaf=20, max_features='sqrt', random_state =2333),\n",
    "                       param_grid = param,scoring ='roc_auc', cv=5)\n",
    "\n",
    "gsearch.fit(X_train, y_train)\n",
    "# gsearch.grid_scores_, \n",
    "gsearch.best_params_, gsearch.best_score_"
   ]
  },
  {
   "cell_type": "markdown",
   "metadata": {},
   "source": [
    "3）再对最大特征数max_features进行网格搜索"
   ]
  },
  {
   "cell_type": "code",
   "execution_count": 17,
   "metadata": {},
   "outputs": [
    {
     "data": {
      "text/plain": [
       "({'max_features': 19}, 0.712726329526747)"
      ]
     },
     "execution_count": 17,
     "metadata": {},
     "output_type": "execute_result"
    }
   ],
   "source": [
    "param = {'max_features':range(7,20,2)}\n",
    "gsearch = GridSearchCV(DecisionTreeClassifier(max_depth=11,min_samples_split=550,min_samples_leaf=80, max_features='sqrt', random_state =2333),\n",
    "                       param_grid = param,scoring ='roc_auc', cv=5)\n",
    "\n",
    "gsearch.fit(X_train, y_train)\n",
    "# gsearch.grid_scores_, \n",
    "gsearch.best_params_, gsearch.best_score_"
   ]
  },
  {
   "cell_type": "code",
   "execution_count": 18,
   "metadata": {},
   "outputs": [
    {
     "name": "stdout",
     "output_type": "stream",
     "text": [
      "[准确率]\n",
      "训练集：0.7893\n",
      "测试集：0.7666\n",
      "[精准率]\n",
      "训练集：0.6468\n",
      "测试集：0.5644\n",
      "[召回率]\n",
      "训练集：0.3513\n",
      "测试集：0.3175\n",
      "[f1-score]\n",
      "训练集：0.4553\n",
      "测试集：0.4064\n",
      "[auc值]\n",
      "训练集：0.7777\n",
      "测试集：0.7251\n"
     ]
    }
   ],
   "source": [
    "dt = DecisionTreeClassifier(max_depth=5,min_samples_split=50,min_samples_leaf=90,max_features=17, random_state =2018)\n",
    "dt.fit(X_train, y_train)\n",
    "model_metrics(dt, X_train, X_test, y_train, y_test)"
   ]
  },
  {
   "cell_type": "markdown",
   "metadata": {},
   "source": [
    "### XGBoost模型\n",
    "\n",
    "1、max_depth = 5 :这个参数的取值最好在3-10之间。我选的起始值为5，但是你也可以选择其它的值。起始值在4-6之间都是不错的选择。\n",
    "2、min_child_weight = 1:在这里选了一个比较小的值，因为这是一个极不平衡的分类问题。因此，某些叶子节点下的值会比较小。\n",
    "3、gamma = 0: 起始值也可以选其它比较小的值，在0.1到0.2之间就可以。这个参数后继也是要调整的。\n",
    "4、subsample, colsample_bytree = 0.8: 这个是最常见的初始值了。典型值的范围在0.5-0.9之间。\n",
    "\n",
    "首先看一下默认参数的结果"
   ]
  },
  {
   "cell_type": "code",
   "execution_count": 19,
   "metadata": {},
   "outputs": [
    {
     "name": "stdout",
     "output_type": "stream",
     "text": [
      "[准确率]\n",
      "训练集：0.8503\n",
      "测试集：0.7821\n",
      "[精准率]\n",
      "训练集：0.8636\n",
      "测试集：0.6176\n",
      "[召回率]\n",
      "训练集：0.4784\n",
      "测试集：0.3510\n",
      "[f1-score]\n",
      "训练集：0.6157\n",
      "测试集：0.4476\n",
      "[auc值]\n",
      "训练集：0.9183\n",
      "测试集：0.7695\n"
     ]
    }
   ],
   "source": [
    "import warnings\n",
    "warnings.filterwarnings(\"ignore\")\n",
    "\n",
    "xgb0 = XGBClassifier()\n",
    "xgb0.fit(X_train, y_train)\n",
    "\n",
    "model_metrics(xgb0, X_train, X_test, y_train, y_test)"
   ]
  },
  {
   "cell_type": "markdown",
   "metadata": {},
   "source": [
    "1) 首先从步长(learning rate)和迭代次数(n_estimators)入手。\n",
    "开始选择一个较小的步长来网格搜索最好的迭代次数。这里，我们将步长初始值设置为0.1, 对于迭代次数进行网格搜索。"
   ]
  },
  {
   "cell_type": "code",
   "execution_count": 20,
   "metadata": {},
   "outputs": [
    {
     "data": {
      "text/plain": [
       "({'n_estimators': 40}, 0.7974625809665962)"
      ]
     },
     "execution_count": 20,
     "metadata": {},
     "output_type": "execute_result"
    }
   ],
   "source": [
    "param_test = {'n_estimators':range(20,200,20)}\n",
    "gsearch = GridSearchCV(estimator = XGBClassifier(learning_rate =0.1, n_estimators=140, max_depth=5, \n",
    "                                                  min_child_weight=1, gamma=0, subsample=0.8, \n",
    "                                                  colsample_bytree=0.8, objective= 'binary:logistic', \n",
    "                                                  nthread=4,scale_pos_weight=1, seed=27), \n",
    "                        param_grid = param_test, scoring='roc_auc',n_jobs=4,iid=False, cv=5)\n",
    "\n",
    "gsearch.fit(X_train, y_train)\n",
    "# gsearch.grid_scores_, \n",
    "gsearch.best_params_, gsearch.best_score_"
   ]
  },
  {
   "cell_type": "markdown",
   "metadata": {},
   "source": [
    "2) max_depth 和 min_child_weight 参数调优"
   ]
  },
  {
   "cell_type": "code",
   "execution_count": 21,
   "metadata": {},
   "outputs": [
    {
     "data": {
      "text/plain": [
       "({'max_depth': 5, 'min_child_weight': 9}, 0.7996564194995348)"
      ]
     },
     "execution_count": 21,
     "metadata": {},
     "output_type": "execute_result"
    }
   ],
   "source": [
    "param_test = {'max_depth':range(3,10,2), 'min_child_weight':range(1,12,2)}\n",
    "\n",
    "gsearch = GridSearchCV(estimator = XGBClassifier(learning_rate =0.1, n_estimators=40, max_depth=5, \n",
    "                                                  min_child_weight=1, gamma=0, subsample=0.8, \n",
    "                                                  colsample_bytree=0.8, objective= 'binary:logistic', \n",
    "                                                  nthread=4,scale_pos_weight=1, seed=27), \n",
    "                        param_grid = param_test, scoring='roc_auc',n_jobs=4,iid=False, cv=5)\n",
    "\n",
    "gsearch.fit(X_train, y_train)\n",
    "# gsearch.grid_scores_, \n",
    "gsearch.best_params_, gsearch.best_score_"
   ]
  },
  {
   "cell_type": "markdown",
   "metadata": {},
   "source": [
    "可以看出理想的max_depth值为5，理想的min_child_weight值为3。在这个值附近我们可以再进一步调整，来找出理想值。"
   ]
  },
  {
   "cell_type": "code",
   "execution_count": 22,
   "metadata": {},
   "outputs": [
    {
     "data": {
      "text/plain": [
       "({'max_depth': 4, 'min_child_weight': 3}, 0.8046473698741362)"
      ]
     },
     "execution_count": 22,
     "metadata": {},
     "output_type": "execute_result"
    }
   ],
   "source": [
    "param_test = {'max_depth':[3,4,5], 'min_child_weight':[3,4,5]}\n",
    "\n",
    "gsearch = GridSearchCV(estimator = XGBClassifier(learning_rate =0.1, n_estimators=40, max_depth=3, \n",
    "                                                  min_child_weight=1, gamma=0, subsample=0.8, \n",
    "                                                  colsample_bytree=0.8, objective= 'binary:logistic', \n",
    "                                                  nthread=4,scale_pos_weight=1, seed=27), \n",
    "                        param_grid = param_test, scoring='roc_auc',n_jobs=4,iid=False, cv=5)\n",
    "\n",
    "gsearch.fit(X_train, y_train)\n",
    "# gsearch.grid_scores_, \n",
    "gsearch.best_params_, gsearch.best_score_"
   ]
  },
  {
   "cell_type": "markdown",
   "metadata": {},
   "source": [
    "3) gamma参数调优"
   ]
  },
  {
   "cell_type": "code",
   "execution_count": 23,
   "metadata": {},
   "outputs": [
    {
     "data": {
      "text/plain": [
       "({'gamma': 0}, 0.7977344545174377)"
      ]
     },
     "execution_count": 23,
     "metadata": {},
     "output_type": "execute_result"
    }
   ],
   "source": [
    "param_test = {'gamma':[i/10 for i in range(1,6)]}\n",
    "\n",
    "gsearch = GridSearchCV(estimator = XGBClassifier(learning_rate =0.1, n_estimators=40, max_depth=3, \n",
    "                                                  min_child_weight=3, gamma=0, subsample=0.8, \n",
    "                                                  colsample_bytree=0.8, objective= 'binary:logistic', \n",
    "                                                  nthread=4,scale_pos_weight=1, seed=27), \n",
    "                        param_grid = param_test, scoring='roc_auc',n_jobs=4,iid=False, cv=5)\n",
    "\n",
    "gsearch.fit(X_train, y_train)\n",
    "# gsearch.grid_scores_, \n",
    "gsearch.best_params_, gsearch.best_score_"
   ]
  },
  {
   "cell_type": "markdown",
   "metadata": {},
   "source": [
    "4）调整subsample 和 colsample_bytree 参数"
   ]
  },
  {
   "cell_type": "code",
   "execution_count": 24,
   "metadata": {},
   "outputs": [
    {
     "data": {
      "text/plain": [
       "({'colsample_bytree': 0, 'subsample': 0}, 0.5)"
      ]
     },
     "execution_count": 24,
     "metadata": {},
     "output_type": "execute_result"
    }
   ],
   "source": [
    "param_test = {'subsample':[i/10 for i in range(5,10)], 'colsample_bytree':[i/10 for i in range(5,10)]}\n",
    "\n",
    "gsearch = GridSearchCV(estimator = XGBClassifier(learning_rate =0.1, n_estimators=40, max_depth=3, \n",
    "                                                  min_child_weight=3, gamma=0.1, subsample=0.8, \n",
    "                                                  colsample_bytree=0.8, objective= 'binary:logistic', \n",
    "                                                  nthread=4,scale_pos_weight=1, seed=27), \n",
    "                        param_grid = param_test, scoring='roc_auc',n_jobs=4,iid=False, cv=5)\n",
    "\n",
    "gsearch.fit(X_train, y_train)\n",
    "# gsearch.grid_scores_, \n",
    "gsearch.best_params_, gsearch.best_score_"
   ]
  },
  {
   "cell_type": "markdown",
   "metadata": {},
   "source": [
    "从这里可以看出来，subsample理想取值0.8, colsample_bytree理想取值都是0.6。现在，我们以0.05为步长，在这个值附近尝试取值。"
   ]
  },
  {
   "cell_type": "code",
   "execution_count": 25,
   "metadata": {},
   "outputs": [
    {
     "data": {
      "text/plain": [
       "({'colsample_bytree': 1, 'subsample': 1}, 0.799949770230203)"
      ]
     },
     "execution_count": 25,
     "metadata": {},
     "output_type": "execute_result"
    }
   ],
   "source": [
    "param_test = { 'subsample':[i/100 for i in range(85,101,5)], 'colsample_bytree':[i/100 for i in range(85,101,5)]}\n",
    "\n",
    "gsearch = GridSearchCV(estimator = XGBClassifier(learning_rate =0.1, n_estimators=40, max_depth=3, \n",
    "                                                  min_child_weight=3, gamma=0.1, subsample=0.9, \n",
    "                                                  colsample_bytree=0.5, objective= 'binary:logistic', \n",
    "                                                  nthread=4,scale_pos_weight=1, seed=27), \n",
    "                        param_grid = param_test, scoring='roc_auc',n_jobs=4,iid=False, cv=5)\n",
    "\n",
    "gsearch.fit(X_train, y_train)\n",
    "# gsearch.grid_scores_, \n",
    "gsearch.best_params_, gsearch.best_score_"
   ]
  },
  {
   "cell_type": "markdown",
   "metadata": {},
   "source": [
    "5）正则化参数调优\n",
    "        \n",
    "        'reg_lambda': [0.2, 0.4, 0.6, 0.8, 1]"
   ]
  },
  {
   "cell_type": "code",
   "execution_count": 26,
   "metadata": {},
   "outputs": [
    {
     "data": {
      "text/plain": [
       "({'reg_alpha': 1}, 0.8029492568543652)"
      ]
     },
     "execution_count": 26,
     "metadata": {},
     "output_type": "execute_result"
    }
   ],
   "source": [
    "param_test = {'reg_alpha':[1e-5, 1e-2, 0.1, 0, 1, 100]}\n",
    "\n",
    "gsearch = GridSearchCV(estimator = XGBClassifier(learning_rate =0.1, n_estimators=40, max_depth=3, \n",
    "                                                  min_child_weight=3, gamma=0.1, subsample=0.9, \n",
    "                                                  colsample_bytree=0.85, objective= 'binary:logistic', \n",
    "                                                  nthread=4,scale_pos_weight=1, seed=27), \n",
    "                        param_grid = param_test, scoring='roc_auc',n_jobs=4,iid=False, cv=5)\n",
    "\n",
    "gsearch.fit(X_train, y_train)\n",
    "# gsearch.grid_scores_, \n",
    "gsearch.best_params_, gsearch.best_score_"
   ]
  },
  {
   "cell_type": "markdown",
   "metadata": {},
   "source": [
    "6）继续从1）循环调整, 此处省略步骤。"
   ]
  },
  {
   "cell_type": "markdown",
   "metadata": {},
   "source": [
    "7）回到第1）步，降低学习速率, 调整迭代次数"
   ]
  },
  {
   "cell_type": "code",
   "execution_count": 27,
   "metadata": {},
   "outputs": [
    {
     "data": {
      "text/plain": [
       "({'n_estimators': 40}, 0.8027894462281872)"
      ]
     },
     "execution_count": 27,
     "metadata": {},
     "output_type": "execute_result"
    }
   ],
   "source": [
    "param_test = {'n_estimators':range(20,200,20)}\n",
    "\n",
    "gsearch = GridSearchCV(estimator = XGBClassifier(learning_rate =0.1, n_estimators=40, max_depth=3, \n",
    "                                                  min_child_weight=3, gamma=0.1, subsample=0.9, \n",
    "                                                  colsample_bytree=0.85, reg_alpha=1e-05, objective= 'binary:logistic', \n",
    "                                                  nthread=4,scale_pos_weight=1, seed=27), \n",
    "                        param_grid = param_test, scoring='roc_auc',n_jobs=4,iid=False, cv=5)\n",
    "\n",
    "gsearch.fit(X_train, y_train)\n",
    "# gsearch.grid_scores_, \n",
    "gsearch.best_params_, gsearch.best_score_"
   ]
  },
  {
   "cell_type": "markdown",
   "metadata": {},
   "source": [
    "与1）结果相比, 较好。所以, 选用此处学习速率较小时的结果。继续从1）循环调整, 此处不再调整。"
   ]
  },
  {
   "cell_type": "code",
   "execution_count": 28,
   "metadata": {},
   "outputs": [
    {
     "name": "stdout",
     "output_type": "stream",
     "text": [
      "[准确率]\n",
      "训练集：0.8326\n",
      "测试集：0.7912\n",
      "[精准率]\n",
      "训练集：0.8184\n",
      "测试集：0.6631\n",
      "[召回率]\n",
      "训练集：0.4269\n",
      "测试集：0.3454\n",
      "[f1-score]\n",
      "训练集：0.5611\n",
      "测试集：0.4542\n",
      "[auc值]\n",
      "训练集：0.8830\n",
      "测试集：0.7764\n"
     ]
    }
   ],
   "source": [
    "xgb = XGBClassifier(learning_rate =0.1, n_estimators=60, max_depth=3, min_child_weight=3, \n",
    "                    gamma=0.1, subsample=0.9, colsample_bytree=0.85, reg_alpha=1e-05, \n",
    "                    objective= 'binary:logistic', nthread=4,scale_pos_weight=1, seed=27)\n",
    "xgb.fit(X_train, y_train)\n",
    "model_metrics(xgb, X_train, X_test, y_train, y_test)"
   ]
  },
  {
   "cell_type": "markdown",
   "metadata": {},
   "source": [
    "### LightGBM模型"
   ]
  },
  {
   "cell_type": "code",
   "execution_count": 29,
   "metadata": {},
   "outputs": [
    {
     "name": "stdout",
     "output_type": "stream",
     "text": [
      "[准确率]\n",
      "训练集：0.9946\n",
      "测试集：0.7722\n",
      "[精准率]\n",
      "训练集：1.0000\n",
      "测试集：0.5810\n",
      "[召回率]\n",
      "训练集：0.9784\n",
      "测试集：0.3398\n",
      "[f1-score]\n",
      "训练集：0.9891\n",
      "测试集：0.4288\n",
      "[auc值]\n",
      "训练集：1.0000\n",
      "测试集：0.7605\n"
     ]
    }
   ],
   "source": [
    "# 首先看一下默认参数的结果\n",
    "lgb0 = LGBMClassifier()\n",
    "lgb0.fit(X_train, y_train)\n",
    "\n",
    "model_metrics(lgb0, X_train, X_test, y_train, y_test)"
   ]
  },
  {
   "cell_type": "code",
   "execution_count": 30,
   "metadata": {},
   "outputs": [
    {
     "data": {
      "text/plain": [
       "({'n_estimators': 40}, 0.8026840319438502)"
      ]
     },
     "execution_count": 30,
     "metadata": {},
     "output_type": "execute_result"
    }
   ],
   "source": [
    "param_test = {'n_estimators':range(20,200,20)}\n",
    "gsearch = GridSearchCV(estimator = LGBMClassifier(learning_rate =0.1, n_estimators=60, max_depth=3, \n",
    "                                                  min_child_weight=11, gamma=0.1, subsample=0.5, \n",
    "                                                  colsample_bytree=0.8, reg_alpha = 1e-5,\n",
    "                                                  nthread=4,scale_pos_weight=1, seed=27), \n",
    "                        param_grid = param_test, scoring='roc_auc',n_jobs=4,iid=False, cv=5)\n",
    "\n",
    "gsearch.fit(X_train, y_train)\n",
    "# gsearch.grid_scores_, \n",
    "\n",
    "gsearch.best_params_, gsearch.best_score_"
   ]
  },
  {
   "cell_type": "code",
   "execution_count": 31,
   "metadata": {},
   "outputs": [
    {
     "name": "stdout",
     "output_type": "stream",
     "text": [
      "[准确率]\n",
      "训练集：0.8275\n",
      "测试集：0.7905\n",
      "[精准率]\n",
      "训练集：0.8171\n",
      "测试集：0.6648\n",
      "[召回率]\n",
      "训练集：0.4017\n",
      "测试集：0.3370\n",
      "[f1-score]\n",
      "训练集：0.5386\n",
      "测试集：0.4473\n",
      "[auc值]\n",
      "训练集：0.8634\n",
      "测试集：0.7776\n"
     ]
    }
   ],
   "source": [
    "lgb = LGBMClassifier(learning_rate =0.1, n_estimators=40, max_depth=3, min_child_weight=11, \n",
    "                    gamma=0.1, subsample=0.5, colsample_bytree=0.8, reg_alpha=1e-5, \n",
    "                    nthread=4,scale_pos_weight=1, seed=27)\n",
    "lgb.fit(X_train, y_train)\n",
    "model_metrics(lgb, X_train, X_test, y_train, y_test)"
   ]
  },
  {
   "cell_type": "markdown",
   "metadata": {},
   "source": [
    "|模型|参数|准确率|auc值|\n",
    "|:---|:---|:---|:---|\n",
    "|LR|LogisticRegression(C = 0.01, penalty = 'l2')|训练集： 0.8013 测试集： 0.7877|训练集： 0.8136 测试集： 0.7786|\n",
    "|svm_linear|svm.SVC(C = 0.01, kernel = 'linear', probability=True)|训练集： 0.8001 测试集： 0.7765|训练集： 0.8155 测试集： 0.7810|\n",
    "|svm_poly|svm.SVC(C = 0.01, kernel = 'poly', probability=True)|训练集： 0.7538 测试集： 0.7547| 训练集： 0.8690 测试集： 0.7260|\n",
    "|svm_rbf|svm.SVC(gamma = 0.01, C =0.01 , probability=True)|训练集： 0.7493 测试集： 0.7484|训练集： 0.8454 测试集： 0.7687|\n",
    "|svm_sigmoid|svm.SVC(C = 0.01, kernel = 'sigmoid',probability=True)|训练集： 0.7493 测试集： 0.7484|训练集： 0.7746 测试集： 0.7619|\n",
    "|决策树|DecisionTreeClassifier(max_depth=5,min_samples_split=300,min_samples_leaf=90,max_features=17)|训练集： 0.7650 测试集： 0.7449|训练集： 0.7509 测试集： 0.6879|\n",
    "|XGBoost|XGBClassifier(learning_rate =0.01, n_estimators=180, max_depth=3, min_child_weight=5,gamma=0.4, subsample=0.5, colsample_bytree=0.9, reg_alpha=1, objective= 'binary:logistic',nthread=4,scale_pos_weight=1, seed=27)|训练集： 0.8142 测试集： 0.7835|训练集： 0.8318 测试集： 0.7680|\n",
    "|LightGBM|LGBMClassifier(learning_rate =0.1, n_estimators=40, max_depth=3, min_child_weight=11,gamma=0.1, subsample=0.5, colsample_bytree=0.8, reg_alpha=1e-5, nthread=4,scale_pos_weight=1, seed=27)|训练集： 0.8308 测试集： 0.7926|训练集： 0.8791 测试集： 0.7756|"
   ]
  },
  {
   "cell_type": "code",
   "execution_count": null,
   "metadata": {},
   "outputs": [],
   "source": []
  },
  {
   "cell_type": "code",
   "execution_count": null,
   "metadata": {},
   "outputs": [],
   "source": []
  }
 ],
 "metadata": {
  "kernelspec": {
   "display_name": "Python 2",
   "language": "python",
   "name": "python2"
  },
  "language_info": {
   "codemirror_mode": {
    "name": "ipython",
    "version": 2
   },
   "file_extension": ".py",
   "mimetype": "text/x-python",
   "name": "python",
   "nbconvert_exporter": "python",
   "pygments_lexer": "ipython2",
   "version": "2.7.15"
  }
 },
 "nbformat": 4,
 "nbformat_minor": 2
}
