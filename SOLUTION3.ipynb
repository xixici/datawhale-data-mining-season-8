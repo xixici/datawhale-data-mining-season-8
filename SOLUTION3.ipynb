{
 "cells": [
  {
   "cell_type": "markdown",
   "metadata": {},
   "source": [
    "## 任务3 - 模型构建（2天）\n",
    "任务3：用逻辑回归、svm和决策树；随机森林和XGBoost进行模型构建，评分方式任意，如准确率等。（不需要考虑模型调参）时间：2天\n",
    "\n",
    "\n",
    "[参考答案](./../参考答案)"
   ]
  },
  {
   "cell_type": "markdown",
   "metadata": {},
   "source": [
    "## 数据集预览"
   ]
  },
  {
   "cell_type": "code",
   "execution_count": 1,
   "metadata": {
    "scrolled": true
   },
   "outputs": [
    {
     "name": "stdout",
     "output_type": "stream",
     "text": [
      "(4754, 90)\n"
     ]
    },
    {
     "data": {
      "text/html": [
       "<div>\n",
       "<style scoped>\n",
       "    .dataframe tbody tr th:only-of-type {\n",
       "        vertical-align: middle;\n",
       "    }\n",
       "\n",
       "    .dataframe tbody tr th {\n",
       "        vertical-align: top;\n",
       "    }\n",
       "\n",
       "    .dataframe thead th {\n",
       "        text-align: right;\n",
       "    }\n",
       "</style>\n",
       "<table border=\"1\" class=\"dataframe\">\n",
       "  <thead>\n",
       "    <tr style=\"text-align: right;\">\n",
       "      <th></th>\n",
       "      <th>Unnamed: 0</th>\n",
       "      <th>custid</th>\n",
       "      <th>trade_no</th>\n",
       "      <th>bank_card_no</th>\n",
       "      <th>low_volume_percent</th>\n",
       "      <th>middle_volume_percent</th>\n",
       "      <th>take_amount_in_later_12_month_highest</th>\n",
       "      <th>trans_amount_increase_rate_lately</th>\n",
       "      <th>trans_activity_month</th>\n",
       "      <th>trans_activity_day</th>\n",
       "      <th>...</th>\n",
       "      <th>loans_max_limit</th>\n",
       "      <th>loans_avg_limit</th>\n",
       "      <th>consfin_credit_limit</th>\n",
       "      <th>consfin_credibility</th>\n",
       "      <th>consfin_org_count_current</th>\n",
       "      <th>consfin_product_count</th>\n",
       "      <th>consfin_max_limit</th>\n",
       "      <th>consfin_avg_limit</th>\n",
       "      <th>latest_query_day</th>\n",
       "      <th>loans_latest_day</th>\n",
       "    </tr>\n",
       "  </thead>\n",
       "  <tbody>\n",
       "    <tr>\n",
       "      <th>0</th>\n",
       "      <td>5</td>\n",
       "      <td>2791858</td>\n",
       "      <td>20180507115231274000000023057383</td>\n",
       "      <td>����1</td>\n",
       "      <td>0.01</td>\n",
       "      <td>0.99</td>\n",
       "      <td>0</td>\n",
       "      <td>0.90</td>\n",
       "      <td>0.55</td>\n",
       "      <td>0.313</td>\n",
       "      <td>...</td>\n",
       "      <td>2900.0</td>\n",
       "      <td>1688.0</td>\n",
       "      <td>1200.0</td>\n",
       "      <td>75.0</td>\n",
       "      <td>1.0</td>\n",
       "      <td>2.0</td>\n",
       "      <td>1200.0</td>\n",
       "      <td>1200.0</td>\n",
       "      <td>12.0</td>\n",
       "      <td>18.0</td>\n",
       "    </tr>\n",
       "    <tr>\n",
       "      <th>1</th>\n",
       "      <td>10</td>\n",
       "      <td>534047</td>\n",
       "      <td>20180507121002192000000023073000</td>\n",
       "      <td>����1</td>\n",
       "      <td>0.02</td>\n",
       "      <td>0.94</td>\n",
       "      <td>2000</td>\n",
       "      <td>1.28</td>\n",
       "      <td>1.00</td>\n",
       "      <td>0.458</td>\n",
       "      <td>...</td>\n",
       "      <td>3500.0</td>\n",
       "      <td>1758.0</td>\n",
       "      <td>15100.0</td>\n",
       "      <td>80.0</td>\n",
       "      <td>5.0</td>\n",
       "      <td>6.0</td>\n",
       "      <td>22800.0</td>\n",
       "      <td>9360.0</td>\n",
       "      <td>4.0</td>\n",
       "      <td>2.0</td>\n",
       "    </tr>\n",
       "    <tr>\n",
       "      <th>2</th>\n",
       "      <td>12</td>\n",
       "      <td>2849787</td>\n",
       "      <td>20180507125159718000000023114911</td>\n",
       "      <td>����1</td>\n",
       "      <td>0.04</td>\n",
       "      <td>0.96</td>\n",
       "      <td>0</td>\n",
       "      <td>1.00</td>\n",
       "      <td>1.00</td>\n",
       "      <td>0.114</td>\n",
       "      <td>...</td>\n",
       "      <td>1600.0</td>\n",
       "      <td>1250.0</td>\n",
       "      <td>4200.0</td>\n",
       "      <td>87.0</td>\n",
       "      <td>1.0</td>\n",
       "      <td>1.0</td>\n",
       "      <td>4200.0</td>\n",
       "      <td>4200.0</td>\n",
       "      <td>2.0</td>\n",
       "      <td>6.0</td>\n",
       "    </tr>\n",
       "    <tr>\n",
       "      <th>3</th>\n",
       "      <td>13</td>\n",
       "      <td>1809708</td>\n",
       "      <td>20180507121358683000000388283484</td>\n",
       "      <td>����1</td>\n",
       "      <td>0.00</td>\n",
       "      <td>0.96</td>\n",
       "      <td>2000</td>\n",
       "      <td>0.13</td>\n",
       "      <td>0.57</td>\n",
       "      <td>0.777</td>\n",
       "      <td>...</td>\n",
       "      <td>3200.0</td>\n",
       "      <td>1541.0</td>\n",
       "      <td>16300.0</td>\n",
       "      <td>80.0</td>\n",
       "      <td>5.0</td>\n",
       "      <td>5.0</td>\n",
       "      <td>30000.0</td>\n",
       "      <td>12180.0</td>\n",
       "      <td>2.0</td>\n",
       "      <td>4.0</td>\n",
       "    </tr>\n",
       "    <tr>\n",
       "      <th>4</th>\n",
       "      <td>14</td>\n",
       "      <td>2499829</td>\n",
       "      <td>20180507115448545000000388205844</td>\n",
       "      <td>����1</td>\n",
       "      <td>0.01</td>\n",
       "      <td>0.99</td>\n",
       "      <td>0</td>\n",
       "      <td>0.46</td>\n",
       "      <td>1.00</td>\n",
       "      <td>0.175</td>\n",
       "      <td>...</td>\n",
       "      <td>2300.0</td>\n",
       "      <td>1630.0</td>\n",
       "      <td>8300.0</td>\n",
       "      <td>79.0</td>\n",
       "      <td>2.0</td>\n",
       "      <td>2.0</td>\n",
       "      <td>8400.0</td>\n",
       "      <td>8250.0</td>\n",
       "      <td>22.0</td>\n",
       "      <td>120.0</td>\n",
       "    </tr>\n",
       "  </tbody>\n",
       "</table>\n",
       "<p>5 rows × 90 columns</p>\n",
       "</div>"
      ],
      "text/plain": [
       "   Unnamed: 0   custid                          trade_no bank_card_no  \\\n",
       "0           5  2791858  20180507115231274000000023057383        ����1   \n",
       "1          10   534047  20180507121002192000000023073000        ����1   \n",
       "2          12  2849787  20180507125159718000000023114911        ����1   \n",
       "3          13  1809708  20180507121358683000000388283484        ����1   \n",
       "4          14  2499829  20180507115448545000000388205844        ����1   \n",
       "\n",
       "   low_volume_percent  middle_volume_percent  \\\n",
       "0                0.01                   0.99   \n",
       "1                0.02                   0.94   \n",
       "2                0.04                   0.96   \n",
       "3                0.00                   0.96   \n",
       "4                0.01                   0.99   \n",
       "\n",
       "   take_amount_in_later_12_month_highest  trans_amount_increase_rate_lately  \\\n",
       "0                                      0                               0.90   \n",
       "1                                   2000                               1.28   \n",
       "2                                      0                               1.00   \n",
       "3                                   2000                               0.13   \n",
       "4                                      0                               0.46   \n",
       "\n",
       "   trans_activity_month  trans_activity_day  ...  loans_max_limit  \\\n",
       "0                  0.55               0.313  ...           2900.0   \n",
       "1                  1.00               0.458  ...           3500.0   \n",
       "2                  1.00               0.114  ...           1600.0   \n",
       "3                  0.57               0.777  ...           3200.0   \n",
       "4                  1.00               0.175  ...           2300.0   \n",
       "\n",
       "   loans_avg_limit  consfin_credit_limit  consfin_credibility  \\\n",
       "0           1688.0                1200.0                 75.0   \n",
       "1           1758.0               15100.0                 80.0   \n",
       "2           1250.0                4200.0                 87.0   \n",
       "3           1541.0               16300.0                 80.0   \n",
       "4           1630.0                8300.0                 79.0   \n",
       "\n",
       "   consfin_org_count_current  consfin_product_count  consfin_max_limit  \\\n",
       "0                        1.0                    2.0             1200.0   \n",
       "1                        5.0                    6.0            22800.0   \n",
       "2                        1.0                    1.0             4200.0   \n",
       "3                        5.0                    5.0            30000.0   \n",
       "4                        2.0                    2.0             8400.0   \n",
       "\n",
       "   consfin_avg_limit  latest_query_day  loans_latest_day  \n",
       "0             1200.0              12.0              18.0  \n",
       "1             9360.0               4.0               2.0  \n",
       "2             4200.0               2.0               6.0  \n",
       "3            12180.0               2.0               4.0  \n",
       "4             8250.0              22.0             120.0  \n",
       "\n",
       "[5 rows x 90 columns]"
      ]
     },
     "execution_count": 1,
     "metadata": {},
     "output_type": "execute_result"
    }
   ],
   "source": [
    "import pandas as pd\n",
    "data = pd.read_csv('./data.csv')\n",
    "print(data.shape)\n",
    "data.head()"
   ]
  },
  {
   "cell_type": "code",
   "execution_count": 2,
   "metadata": {
    "scrolled": true
   },
   "outputs": [
    {
     "data": {
      "text/plain": [
       "Index([u'Unnamed: 0', u'custid', u'trade_no', u'bank_card_no',\n",
       "       u'low_volume_percent', u'middle_volume_percent',\n",
       "       u'take_amount_in_later_12_month_highest',\n",
       "       u'trans_amount_increase_rate_lately', u'trans_activity_month',\n",
       "       u'trans_activity_day', u'transd_mcc', u'trans_days_interval_filter',\n",
       "       u'trans_days_interval', u'regional_mobility', u'student_feature',\n",
       "       u'repayment_capability', u'is_high_user', u'number_of_trans_from_2011',\n",
       "       u'first_transaction_time', u'historical_trans_amount',\n",
       "       u'historical_trans_day', u'rank_trad_1_month', u'trans_amount_3_month',\n",
       "       u'avg_consume_less_12_valid_month', u'abs',\n",
       "       u'top_trans_count_last_1_month', u'avg_price_last_12_month',\n",
       "       u'avg_price_top_last_12_valid_month', u'reg_preference_for_trad',\n",
       "       u'trans_top_time_last_1_month', u'trans_top_time_last_6_month',\n",
       "       u'consume_top_time_last_1_month', u'consume_top_time_last_6_month',\n",
       "       u'cross_consume_count_last_1_month',\n",
       "       u'trans_fail_top_count_enum_last_1_month',\n",
       "       u'trans_fail_top_count_enum_last_6_month',\n",
       "       u'trans_fail_top_count_enum_last_12_month',\n",
       "       u'consume_mini_time_last_1_month',\n",
       "       u'max_cumulative_consume_later_1_month',\n",
       "       u'max_consume_count_later_6_month',\n",
       "       u'railway_consume_count_last_12_month',\n",
       "       u'pawns_auctions_trusts_consume_last_1_month',\n",
       "       u'pawns_auctions_trusts_consume_last_6_month',\n",
       "       u'jewelry_consume_count_last_6_month', u'status', u'source',\n",
       "       u'first_transaction_day', u'trans_day_last_12_month', u'id_name',\n",
       "       u'apply_score', u'apply_credibility', u'query_org_count',\n",
       "       u'query_finance_count', u'query_cash_count', u'query_sum_count',\n",
       "       u'latest_query_time', u'latest_one_month_apply',\n",
       "       u'latest_three_month_apply', u'latest_six_month_apply', u'loans_score',\n",
       "       u'loans_credibility_behavior', u'loans_count', u'loans_settle_count',\n",
       "       u'loans_overdue_count', u'loans_org_count_behavior',\n",
       "       u'consfin_org_count_behavior', u'loans_cash_count',\n",
       "       u'latest_one_month_loan', u'latest_three_month_loan',\n",
       "       u'latest_six_month_loan', u'history_suc_fee', u'history_fail_fee',\n",
       "       u'latest_one_month_suc', u'latest_one_month_fail', u'loans_long_time',\n",
       "       u'loans_latest_time', u'loans_credit_limit', u'loans_credibility_limit',\n",
       "       u'loans_org_count_current', u'loans_product_count', u'loans_max_limit',\n",
       "       u'loans_avg_limit', u'consfin_credit_limit', u'consfin_credibility',\n",
       "       u'consfin_org_count_current', u'consfin_product_count',\n",
       "       u'consfin_max_limit', u'consfin_avg_limit', u'latest_query_day',\n",
       "       u'loans_latest_day'],\n",
       "      dtype='object')"
      ]
     },
     "execution_count": 2,
     "metadata": {},
     "output_type": "execute_result"
    }
   ],
   "source": [
    "# 观察各列的属性名称\n",
    "data.columns"
   ]
  },
  {
   "cell_type": "markdown",
   "metadata": {},
   "source": [
    "## 数据预处理\n",
    "\n",
    "> 无用特征删除、字符型特征编码和缺失值填充。"
   ]
  },
  {
   "cell_type": "markdown",
   "metadata": {},
   "source": [
    "###  删除无用特征"
   ]
  },
  {
   "cell_type": "markdown",
   "metadata": {},
   "source": [
    "'bank_card_no','source'的取值**无区分度**\n",
    "\n",
    "'Unnamed: 0', 'custid', 'trade_no'和id_name'**与预测无关**"
   ]
  },
  {
   "cell_type": "code",
   "execution_count": 3,
   "metadata": {},
   "outputs": [
    {
     "name": "stdout",
     "output_type": "stream",
     "text": [
      "(4754, 84)\n"
     ]
    }
   ],
   "source": [
    "data.drop(['Unnamed: 0', 'custid', 'trade_no', 'bank_card_no', 'source', 'id_name'], \n",
    "          axis=1, inplace=True)\n",
    "print(data.shape)"
   ]
  },
  {
   "cell_type": "markdown",
   "metadata": {},
   "source": [
    "**日期特征**（暂时删除, 以后再处理。）"
   ]
  },
  {
   "cell_type": "code",
   "execution_count": 4,
   "metadata": {},
   "outputs": [],
   "source": [
    "data.drop(['first_transaction_time', 'latest_query_time', 'loans_latest_time'], \n",
    "          axis=1, inplace=True)"
   ]
  },
  {
   "cell_type": "markdown",
   "metadata": {},
   "source": [
    "### 字符型特征-编码"
   ]
  },
  {
   "cell_type": "code",
   "execution_count": 5,
   "metadata": {},
   "outputs": [
    {
     "data": {
      "text/plain": [
       "һ�߳���      3403\n",
       "���߳���     1064\n",
       "����         150\n",
       "���߳���      131\n",
       "��������       4\n",
       "Name: reg_preference_for_trad, dtype: int64"
      ]
     },
     "execution_count": 5,
     "metadata": {},
     "output_type": "execute_result"
    }
   ],
   "source": [
    "data['reg_preference_for_trad'].value_counts()"
   ]
  },
  {
   "cell_type": "code",
   "execution_count": 6,
   "metadata": {},
   "outputs": [],
   "source": [
    "dic = {}\n",
    "for i, val in enumerate(list(data['reg_preference_for_trad'].unique())):\n",
    "    dic[val] = i"
   ]
  },
  {
   "cell_type": "code",
   "execution_count": 7,
   "metadata": {},
   "outputs": [],
   "source": [
    "data['reg_preference_for_trad'] = data['reg_preference_for_trad'].map(dic)"
   ]
  },
  {
   "cell_type": "markdown",
   "metadata": {},
   "source": [
    "### 缺失值处理"
   ]
  },
  {
   "cell_type": "code",
   "execution_count": 8,
   "metadata": {},
   "outputs": [
    {
     "name": "stdout",
     "output_type": "stream",
     "text": [
      "('0.0000', '%', '--', 'low_volume_percent')\n",
      "('0.0000', '%', '--', 'middle_volume_percent')\n",
      "('0.0000', '%', '--', 'trans_amount_increase_rate_lately')\n",
      "('0.0000', '%', '--', 'trans_activity_month')\n",
      "('0.0000', '%', '--', 'trans_activity_day')\n",
      "('0.0000', '%', '--', 'transd_mcc')\n",
      "('0.0000', '%', '--', 'trans_days_interval_filter')\n",
      "('0.0000', '%', '--', 'trans_days_interval')\n",
      "('0.0000', '%', '--', 'regional_mobility')\n",
      "('63.0000', '%', '--', 'student_feature')\n",
      "('0.0000', '%', '--', 'number_of_trans_from_2011')\n",
      "('0.0000', '%', '--', 'historical_trans_day')\n",
      "('0.0000', '%', '--', 'rank_trad_1_month')\n",
      "('0.0000', '%', '--', 'avg_consume_less_12_valid_month')\n",
      "('0.0000', '%', '--', 'top_trans_count_last_1_month')\n",
      "('2.0000', '%', '--', 'avg_price_top_last_12_valid_month')\n",
      "('0.0000', '%', '--', 'trans_top_time_last_1_month')\n",
      "('0.0000', '%', '--', 'trans_top_time_last_6_month')\n",
      "('0.0000', '%', '--', 'consume_top_time_last_1_month')\n",
      "('0.0000', '%', '--', 'consume_top_time_last_6_month')\n",
      "('8.0000', '%', '--', 'cross_consume_count_last_1_month')\n",
      "('0.0000', '%', '--', 'trans_fail_top_count_enum_last_1_month')\n",
      "('0.0000', '%', '--', 'trans_fail_top_count_enum_last_6_month')\n",
      "('0.0000', '%', '--', 'trans_fail_top_count_enum_last_12_month')\n",
      "('0.0000', '%', '--', 'consume_mini_time_last_1_month')\n",
      "('0.0000', '%', '--', 'max_consume_count_later_6_month')\n",
      "('0.0000', '%', '--', 'railway_consume_count_last_12_month')\n",
      "('0.0000', '%', '--', 'jewelry_consume_count_last_6_month')\n",
      "('0.0000', '%', '--', 'first_transaction_day')\n",
      "('0.0000', '%', '--', 'trans_day_last_12_month')\n",
      "('6.0000', '%', '--', 'apply_score')\n",
      "('6.0000', '%', '--', 'apply_credibility')\n",
      "('6.0000', '%', '--', 'query_org_count')\n",
      "('6.0000', '%', '--', 'query_finance_count')\n",
      "('6.0000', '%', '--', 'query_cash_count')\n",
      "('6.0000', '%', '--', 'query_sum_count')\n",
      "('6.0000', '%', '--', 'latest_one_month_apply')\n",
      "('6.0000', '%', '--', 'latest_three_month_apply')\n",
      "('6.0000', '%', '--', 'latest_six_month_apply')\n",
      "('6.0000', '%', '--', 'loans_score')\n",
      "('6.0000', '%', '--', 'loans_credibility_behavior')\n",
      "('6.0000', '%', '--', 'loans_count')\n",
      "('6.0000', '%', '--', 'loans_settle_count')\n",
      "('6.0000', '%', '--', 'loans_overdue_count')\n",
      "('6.0000', '%', '--', 'loans_org_count_behavior')\n",
      "('6.0000', '%', '--', 'consfin_org_count_behavior')\n",
      "('6.0000', '%', '--', 'loans_cash_count')\n",
      "('6.0000', '%', '--', 'latest_one_month_loan')\n",
      "('6.0000', '%', '--', 'latest_three_month_loan')\n",
      "('6.0000', '%', '--', 'latest_six_month_loan')\n",
      "('6.0000', '%', '--', 'history_suc_fee')\n",
      "('6.0000', '%', '--', 'history_fail_fee')\n",
      "('6.0000', '%', '--', 'latest_one_month_suc')\n",
      "('6.0000', '%', '--', 'latest_one_month_fail')\n",
      "('6.0000', '%', '--', 'loans_long_time')\n",
      "('6.0000', '%', '--', 'loans_credit_limit')\n",
      "('6.0000', '%', '--', 'loans_credibility_limit')\n",
      "('6.0000', '%', '--', 'loans_org_count_current')\n",
      "('6.0000', '%', '--', 'loans_product_count')\n",
      "('6.0000', '%', '--', 'loans_max_limit')\n",
      "('6.0000', '%', '--', 'loans_avg_limit')\n",
      "('6.0000', '%', '--', 'consfin_credit_limit')\n",
      "('6.0000', '%', '--', 'consfin_credibility')\n",
      "('6.0000', '%', '--', 'consfin_org_count_current')\n",
      "('6.0000', '%', '--', 'consfin_product_count')\n",
      "('6.0000', '%', '--', 'consfin_max_limit')\n",
      "('6.0000', '%', '--', 'consfin_avg_limit')\n",
      "('6.0000', '%', '--', 'latest_query_day')\n",
      "('6.0000', '%', '--', 'loans_latest_day')\n"
     ]
    }
   ],
   "source": [
    "for feature in data.columns:\n",
    "    summ = data[feature].isnull().sum()\n",
    "    if summ:\n",
    "        print('%.4f'%(summ*100/4754), '%',  '--', feature)"
   ]
  },
  {
   "cell_type": "markdown",
   "metadata": {},
   "source": [
    "1) student_feature 缺失占比多, 需要用**众数**填充;"
   ]
  },
  {
   "cell_type": "code",
   "execution_count": 9,
   "metadata": {},
   "outputs": [
    {
     "data": {
      "text/plain": [
       "1.0    1754\n",
       "2.0       2\n",
       "Name: student_feature, dtype: int64"
      ]
     },
     "execution_count": 9,
     "metadata": {},
     "output_type": "execute_result"
    }
   ],
   "source": [
    "data['student_feature'].value_counts()"
   ]
  },
  {
   "cell_type": "code",
   "execution_count": 10,
   "metadata": {},
   "outputs": [],
   "source": [
    "data['student_feature'].fillna(1.0, inplace = True)"
   ]
  },
  {
   "cell_type": "code",
   "execution_count": 11,
   "metadata": {},
   "outputs": [
    {
     "data": {
      "text/plain": [
       "1.0    4752\n",
       "2.0       2\n",
       "Name: student_feature, dtype: int64"
      ]
     },
     "execution_count": 11,
     "metadata": {},
     "output_type": "execute_result"
    }
   ],
   "source": [
    "data['student_feature'].value_counts()"
   ]
  },
  {
   "cell_type": "markdown",
   "metadata": {},
   "source": [
    "2) 其余特征用**均值**填充。"
   ]
  },
  {
   "cell_type": "code",
   "execution_count": 12,
   "metadata": {},
   "outputs": [],
   "source": [
    "for feature in data.columns:\n",
    "    summ = data[feature].isnull().sum()\n",
    "    if summ:\n",
    "        data[feature].fillna(data[feature].mean(), inplace = True)"
   ]
  },
  {
   "cell_type": "markdown",
   "metadata": {},
   "source": [
    "'Unnamed: 0', 'custid', 'trade_no', 'bank_card_no', 'source'都没用, 'id_name'表示姓名, 没用？\n",
    "\n",
    "'take_amount_in_later_12_month_highest'数值跨度可能较大, 归一化？\n",
    "\n",
    "某些特征可能包含缺失值NAN\n",
    "\n",
    "'reg_preference_for_trad'需要编码\n",
    "\n",
    "'latest_query_time', 'loans_latest_time'为日期特征"
   ]
  },
  {
   "cell_type": "markdown",
   "metadata": {},
   "source": [
    "### 数据集划分"
   ]
  },
  {
   "cell_type": "code",
   "execution_count": 13,
   "metadata": {},
   "outputs": [],
   "source": [
    "features = [x for x in data.columns if x not in ['status']]"
   ]
  },
  {
   "cell_type": "code",
   "execution_count": 14,
   "metadata": {},
   "outputs": [],
   "source": [
    "import warnings\n",
    "warnings.filterwarnings(\"ignore\")\n",
    "# 划分训练集测试集\n",
    "from sklearn.model_selection import train_test_split\n",
    "from sklearn.preprocessing import StandardScaler\n",
    "\n",
    "X = data[features]\n",
    "y = data.status\n",
    "\n",
    "X_train, X_test, y_train, y_test = train_test_split(X, y, test_size=0.3,random_state=2333)\n",
    "\n",
    "# 特征归一化\n",
    "std = StandardScaler()\n",
    "X_train = std.fit_transform(X_train)\n",
    "X_test = std.transform(X_test)"
   ]
  },
  {
   "cell_type": "markdown",
   "metadata": {},
   "source": [
    "### LR模型"
   ]
  },
  {
   "cell_type": "code",
   "execution_count": 15,
   "metadata": {},
   "outputs": [
    {
     "data": {
      "text/plain": [
       "LogisticRegression(C=1.0, class_weight=None, dual=False, fit_intercept=True,\n",
       "          intercept_scaling=1, max_iter=100, multi_class='warn',\n",
       "          n_jobs=None, penalty='l2', random_state=None, solver='warn',\n",
       "          tol=0.0001, verbose=0, warm_start=False)"
      ]
     },
     "execution_count": 15,
     "metadata": {},
     "output_type": "execute_result"
    }
   ],
   "source": [
    "from sklearn.linear_model import LogisticRegression\n",
    "\n",
    "lr = LogisticRegression()\n",
    "lr.fit(X_train, y_train)"
   ]
  },
  {
   "cell_type": "markdown",
   "metadata": {},
   "source": [
    "### SVM模型\n",
    "\n"
   ]
  },
  {
   "cell_type": "code",
   "execution_count": 16,
   "metadata": {},
   "outputs": [],
   "source": [
    "from sklearn import svm\n",
    "\n",
    "svm_linear = svm.SVC(kernel = 'linear', probability=True).fit(X_train, y_train)\n",
    "svm_poly = svm.SVC(kernel = 'poly', probability=True).fit(X_train, y_train)\n",
    "svm_rbf = svm.SVC(probability=True).fit(X_train, y_train)\n",
    "svm_sigmoid = svm.SVC(kernel = 'sigmoid',probability=True).fit(X_train, y_train)"
   ]
  },
  {
   "cell_type": "markdown",
   "metadata": {},
   "source": [
    "### 决策树模型\n",
    "\n",
    "> 树模型，特征不需归一化。"
   ]
  },
  {
   "cell_type": "code",
   "execution_count": 17,
   "metadata": {},
   "outputs": [
    {
     "data": {
      "text/plain": [
       "DecisionTreeClassifier(class_weight=None, criterion='gini', max_depth=4,\n",
       "            max_features=None, max_leaf_nodes=None,\n",
       "            min_impurity_decrease=0.0, min_impurity_split=None,\n",
       "            min_samples_leaf=1, min_samples_split=2,\n",
       "            min_weight_fraction_leaf=0.0, presort=False, random_state=None,\n",
       "            splitter='best')"
      ]
     },
     "execution_count": 17,
     "metadata": {},
     "output_type": "execute_result"
    }
   ],
   "source": [
    "from sklearn.tree import DecisionTreeClassifier\n",
    "\n",
    "dt = DecisionTreeClassifier(max_depth=4)\n",
    "dt.fit(X_train, y_train)"
   ]
  },
  {
   "cell_type": "markdown",
   "metadata": {},
   "source": [
    "### XGBoost模型"
   ]
  },
  {
   "cell_type": "code",
   "execution_count": 18,
   "metadata": {},
   "outputs": [
    {
     "data": {
      "text/plain": [
       "XGBClassifier(base_score=0.5, booster='gbtree', colsample_bylevel=1,\n",
       "       colsample_bynode=1, colsample_bytree=1, gamma=0, learning_rate=0.1,\n",
       "       max_delta_step=0, max_depth=3, min_child_weight=1, missing=None,\n",
       "       n_estimators=100, n_jobs=1, nthread=None,\n",
       "       objective='binary:logistic', random_state=0, reg_alpha=0,\n",
       "       reg_lambda=1, scale_pos_weight=1, seed=None, silent=None,\n",
       "       subsample=1, verbosity=1)"
      ]
     },
     "execution_count": 18,
     "metadata": {},
     "output_type": "execute_result"
    }
   ],
   "source": [
    "import warnings\n",
    "warnings.filterwarnings(\"ignore\")\n",
    "from xgboost.sklearn import XGBClassifier\n",
    "\n",
    "xgb = XGBClassifier()\n",
    "xgb.fit(X_train, y_train)"
   ]
  },
  {
   "cell_type": "markdown",
   "metadata": {},
   "source": [
    "### LightGBM模型"
   ]
  },
  {
   "cell_type": "code",
   "execution_count": 19,
   "metadata": {},
   "outputs": [
    {
     "data": {
      "text/plain": [
       "LGBMClassifier(boosting_type='gbdt', class_weight=None, colsample_bytree=1.0,\n",
       "        importance_type='split', learning_rate=0.1, max_depth=-1,\n",
       "        min_child_samples=20, min_child_weight=0.001, min_split_gain=0.0,\n",
       "        n_estimators=100, n_jobs=-1, num_leaves=31, objective=None,\n",
       "        random_state=None, reg_alpha=0.0, reg_lambda=0.0, silent=True,\n",
       "        subsample=1.0, subsample_for_bin=200000, subsample_freq=0)"
      ]
     },
     "execution_count": 19,
     "metadata": {},
     "output_type": "execute_result"
    }
   ],
   "source": [
    "from lightgbm.sklearn import LGBMClassifier\n",
    "\n",
    "lgb= LGBMClassifier()\n",
    "lgb.fit(X_train, y_train)"
   ]
  },
  {
   "cell_type": "markdown",
   "metadata": {},
   "source": [
    "## 模型调参"
   ]
  },
  {
   "cell_type": "code",
   "execution_count": 20,
   "metadata": {},
   "outputs": [
    {
     "name": "stdout",
     "output_type": "stream",
     "text": [
      "({'penalty': 'l1', 'C': 0.1}, 0.7883979561166216)\n"
     ]
    }
   ],
   "source": [
    "from sklearn.model_selection import GridSearchCV\n",
    "\n",
    "lr = LogisticRegression()\n",
    "lr_param = {'penalty': ('l1', 'l2'), 'C': [0.0001,0.001,0.01,0.1,1,10,100,1000]}\n",
    "\n",
    "grid = GridSearchCV(lr, param_grid = lr_param, cv = 5)\n",
    "grid.fit(X_train, y_train)\n",
    "\n",
    "print(grid.best_params_, grid.best_score_)"
   ]
  },
  {
   "cell_type": "markdown",
   "metadata": {},
   "source": [
    "## 模型评估\n",
    "\n",
    "> 观察accuracy、precision，recall和f1-score、auc的取值，并画出roc曲线图"
   ]
  },
  {
   "cell_type": "code",
   "execution_count": 22,
   "metadata": {},
   "outputs": [],
   "source": [
    "from sklearn.metrics import accuracy_score, precision_score, recall_score, f1_score\n",
    "from sklearn.metrics import roc_auc_score,roc_curve, auc\n",
    "import matplotlib.pyplot as plt\n",
    "%matplotlib inline"
   ]
  },
  {
   "cell_type": "code",
   "execution_count": 51,
   "metadata": {},
   "outputs": [],
   "source": [
    "def model_metrics(clf, X_train, X_test, y_train, y_test):\n",
    "    # 预测\n",
    "    y_train_pred = clf.predict(X_train)\n",
    "    y_test_pred = clf.predict(X_test)\n",
    "    \n",
    "    y_train_proba = clf.predict_proba(X_train)[:,1]\n",
    "    y_test_proba = clf.predict_proba(X_test)[:,1]\n",
    "    \n",
    "    # 准确率\n",
    "    print(u'[准确率]')\n",
    "    print(u'训练集：', u'%.4f'%accuracy_score(y_train, y_train_pred))\n",
    "    print(u'测试集：', '%.4f'%accuracy_score(y_test, y_test_pred))\n",
    "    \n",
    "    # 精准率\n",
    "    print(u'[精准率]')\n",
    "    print(u'训练集：', '%.4f'%precision_score(y_train, y_train_pred))\n",
    "    print(u'测试集：', '%.4f'%precision_score(y_test, y_test_pred))\n",
    "\n",
    "    # 召回率\n",
    "    print(u'[召回率]')\n",
    "    print(u'训练集：', '%.4f'%recall_score(y_train, y_train_pred))\n",
    "    print(u'测试集：', '%.4f'%recall_score(y_test, y_test_pred))\n",
    "    \n",
    "    # f1-score\n",
    "    print(u'[f1-score]')\n",
    "    print(u'训练集：', '%.4f'%f1_score(y_train, y_train_pred))\n",
    "    print(u'测试集：', '%.4f'%f1_score(y_test, y_test_pred))\n",
    "    \n",
    "    # auc取值：用roc_auc_score或auc\n",
    "    print(u'[auc值]')\n",
    "    print(u'训练集：', '%.4f'%roc_auc_score(y_train, y_train_proba))\n",
    "    print(u'测试集：', '%.4f'%roc_auc_score(y_test, y_test_proba))\n",
    "    \n",
    "    # roc曲线\n",
    "    fpr_train, tpr_train, thresholds_train = roc_curve(y_train, y_train_proba, pos_label = 1)\n",
    "    fpr_test, tpr_test, thresholds_test = roc_curve(y_test, y_test_proba, pos_label = 1)\n",
    "    \n",
    "    label = [\"Train - AUC:{:.4f}\".format(auc(fpr_train, tpr_train)), \n",
    "             \"Test - AUC:{:.4f}\".format(auc(fpr_test, tpr_test))]\n",
    "    plt.plot(fpr_train,tpr_train)\n",
    "    plt.plot(fpr_test,tpr_test)\n",
    "    plt.plot([0, 1], [0, 1], 'd--')\n",
    "    plt.xlabel('False Positive Rate')\n",
    "    plt.ylabel('True Positive Rate')\n",
    "    plt.legend(label, loc = 4)\n",
    "    plt.title(\"ROC curve\")"
   ]
  },
  {
   "cell_type": "code",
   "execution_count": 52,
   "metadata": {
    "scrolled": true
   },
   "outputs": [
    {
     "ename": "NotFittedError",
     "evalue": "This LogisticRegression instance is not fitted yet",
     "output_type": "error",
     "traceback": [
      "\u001b[1;31m---------------------------------------------------------------------------\u001b[0m",
      "\u001b[1;31mNotFittedError\u001b[0m                            Traceback (most recent call last)",
      "\u001b[1;32m<ipython-input-52-903933de2b12>\u001b[0m in \u001b[0;36m<module>\u001b[1;34m()\u001b[0m\n\u001b[0;32m      1\u001b[0m \u001b[1;31m# 逻辑回归\u001b[0m\u001b[1;33m\u001b[0m\u001b[1;33m\u001b[0m\u001b[0m\n\u001b[1;32m----> 2\u001b[1;33m \u001b[0mmodel_metrics\u001b[0m\u001b[1;33m(\u001b[0m\u001b[0mlr\u001b[0m\u001b[1;33m,\u001b[0m \u001b[0mX_train\u001b[0m\u001b[1;33m,\u001b[0m \u001b[0mX_test\u001b[0m\u001b[1;33m,\u001b[0m \u001b[0my_train\u001b[0m\u001b[1;33m,\u001b[0m \u001b[0my_test\u001b[0m\u001b[1;33m)\u001b[0m\u001b[1;33m\u001b[0m\u001b[0m\n\u001b[0m",
      "\u001b[1;32m<ipython-input-51-85ed509e1b21>\u001b[0m in \u001b[0;36mmodel_metrics\u001b[1;34m(clf, X_train, X_test, y_train, y_test)\u001b[0m\n\u001b[0;32m      1\u001b[0m \u001b[1;32mdef\u001b[0m \u001b[0mmodel_metrics\u001b[0m\u001b[1;33m(\u001b[0m\u001b[0mclf\u001b[0m\u001b[1;33m,\u001b[0m \u001b[0mX_train\u001b[0m\u001b[1;33m,\u001b[0m \u001b[0mX_test\u001b[0m\u001b[1;33m,\u001b[0m \u001b[0my_train\u001b[0m\u001b[1;33m,\u001b[0m \u001b[0my_test\u001b[0m\u001b[1;33m)\u001b[0m\u001b[1;33m:\u001b[0m\u001b[1;33m\u001b[0m\u001b[0m\n\u001b[0;32m      2\u001b[0m     \u001b[1;31m# 预测\u001b[0m\u001b[1;33m\u001b[0m\u001b[1;33m\u001b[0m\u001b[0m\n\u001b[1;32m----> 3\u001b[1;33m     \u001b[0my_train_pred\u001b[0m \u001b[1;33m=\u001b[0m \u001b[0mclf\u001b[0m\u001b[1;33m.\u001b[0m\u001b[0mpredict\u001b[0m\u001b[1;33m(\u001b[0m\u001b[0mX_train\u001b[0m\u001b[1;33m)\u001b[0m\u001b[1;33m\u001b[0m\u001b[0m\n\u001b[0m\u001b[0;32m      4\u001b[0m     \u001b[0my_test_pred\u001b[0m \u001b[1;33m=\u001b[0m \u001b[0mclf\u001b[0m\u001b[1;33m.\u001b[0m\u001b[0mpredict\u001b[0m\u001b[1;33m(\u001b[0m\u001b[0mX_test\u001b[0m\u001b[1;33m)\u001b[0m\u001b[1;33m\u001b[0m\u001b[0m\n\u001b[0;32m      5\u001b[0m \u001b[1;33m\u001b[0m\u001b[0m\n",
      "\u001b[1;32mD:\\Anaconda2\\lib\\site-packages\\sklearn\\linear_model\\base.pyc\u001b[0m in \u001b[0;36mpredict\u001b[1;34m(self, X)\u001b[0m\n\u001b[0;32m    279\u001b[0m             \u001b[0mPredicted\u001b[0m \u001b[1;32mclass\u001b[0m \u001b[0mlabel\u001b[0m \u001b[0mper\u001b[0m \u001b[0msample\u001b[0m\u001b[1;33m.\u001b[0m\u001b[1;33m\u001b[0m\u001b[0m\n\u001b[0;32m    280\u001b[0m         \"\"\"\n\u001b[1;32m--> 281\u001b[1;33m         \u001b[0mscores\u001b[0m \u001b[1;33m=\u001b[0m \u001b[0mself\u001b[0m\u001b[1;33m.\u001b[0m\u001b[0mdecision_function\u001b[0m\u001b[1;33m(\u001b[0m\u001b[0mX\u001b[0m\u001b[1;33m)\u001b[0m\u001b[1;33m\u001b[0m\u001b[0m\n\u001b[0m\u001b[0;32m    282\u001b[0m         \u001b[1;32mif\u001b[0m \u001b[0mlen\u001b[0m\u001b[1;33m(\u001b[0m\u001b[0mscores\u001b[0m\u001b[1;33m.\u001b[0m\u001b[0mshape\u001b[0m\u001b[1;33m)\u001b[0m \u001b[1;33m==\u001b[0m \u001b[1;36m1\u001b[0m\u001b[1;33m:\u001b[0m\u001b[1;33m\u001b[0m\u001b[0m\n\u001b[0;32m    283\u001b[0m             \u001b[0mindices\u001b[0m \u001b[1;33m=\u001b[0m \u001b[1;33m(\u001b[0m\u001b[0mscores\u001b[0m \u001b[1;33m>\u001b[0m \u001b[1;36m0\u001b[0m\u001b[1;33m)\u001b[0m\u001b[1;33m.\u001b[0m\u001b[0mastype\u001b[0m\u001b[1;33m(\u001b[0m\u001b[0mnp\u001b[0m\u001b[1;33m.\u001b[0m\u001b[0mint\u001b[0m\u001b[1;33m)\u001b[0m\u001b[1;33m\u001b[0m\u001b[0m\n",
      "\u001b[1;32mD:\\Anaconda2\\lib\\site-packages\\sklearn\\linear_model\\base.pyc\u001b[0m in \u001b[0;36mdecision_function\u001b[1;34m(self, X)\u001b[0m\n\u001b[0;32m    253\u001b[0m         \u001b[1;32mif\u001b[0m \u001b[1;32mnot\u001b[0m \u001b[0mhasattr\u001b[0m\u001b[1;33m(\u001b[0m\u001b[0mself\u001b[0m\u001b[1;33m,\u001b[0m \u001b[1;34m'coef_'\u001b[0m\u001b[1;33m)\u001b[0m \u001b[1;32mor\u001b[0m \u001b[0mself\u001b[0m\u001b[1;33m.\u001b[0m\u001b[0mcoef_\u001b[0m \u001b[1;32mis\u001b[0m \u001b[0mNone\u001b[0m\u001b[1;33m:\u001b[0m\u001b[1;33m\u001b[0m\u001b[0m\n\u001b[0;32m    254\u001b[0m             raise NotFittedError(\"This %(name)s instance is not fitted \"\n\u001b[1;32m--> 255\u001b[1;33m                                  \"yet\" % {'name': type(self).__name__})\n\u001b[0m\u001b[0;32m    256\u001b[0m \u001b[1;33m\u001b[0m\u001b[0m\n\u001b[0;32m    257\u001b[0m         \u001b[0mX\u001b[0m \u001b[1;33m=\u001b[0m \u001b[0mcheck_array\u001b[0m\u001b[1;33m(\u001b[0m\u001b[0mX\u001b[0m\u001b[1;33m,\u001b[0m \u001b[0maccept_sparse\u001b[0m\u001b[1;33m=\u001b[0m\u001b[1;34m'csr'\u001b[0m\u001b[1;33m)\u001b[0m\u001b[1;33m\u001b[0m\u001b[0m\n",
      "\u001b[1;31mNotFittedError\u001b[0m: This LogisticRegression instance is not fitted yet"
     ]
    }
   ],
   "source": [
    "# 逻辑回归\n",
    "model_metrics(lr, X_train, X_test, y_train, y_test)"
   ]
  },
  {
   "cell_type": "code",
   "execution_count": 53,
   "metadata": {
    "scrolled": true
   },
   "outputs": [
    {
     "name": "stdout",
     "output_type": "stream",
     "text": [
      "[准确率]\n",
      "(u'\\u8bad\\u7ec3\\u96c6\\uff1a', u'0.7908')\n",
      "(u'\\u6d4b\\u8bd5\\u96c6\\uff1a', '0.7947')\n",
      "[精准率]\n",
      "(u'\\u8bad\\u7ec3\\u96c6\\uff1a', '0.7647')\n",
      "(u'\\u6d4b\\u8bd5\\u96c6\\uff1a', '0.7885')\n",
      "[召回率]\n",
      "(u'\\u8bad\\u7ec3\\u96c6\\uff1a', '0.2476')\n",
      "(u'\\u6d4b\\u8bd5\\u96c6\\uff1a', '0.2323')\n",
      "[f1-score]\n",
      "(u'\\u8bad\\u7ec3\\u96c6\\uff1a', '0.3741')\n",
      "(u'\\u6d4b\\u8bd5\\u96c6\\uff1a', '0.3589')\n",
      "[auc值]\n",
      "(u'\\u8bad\\u7ec3\\u96c6\\uff1a', '0.8042')\n",
      "(u'\\u6d4b\\u8bd5\\u96c6\\uff1a', '0.8092')\n"
     ]
    },
    {
     "data": {
      "image/png": "[encoded data removed]",
      "text/plain": [
       "<Figure size 432x288 with 1 Axes>"
      ]
     },
     "metadata": {
      "needs_background": "light"
     },
     "output_type": "display_data"
    }
   ],
   "source": [
    "# 线性SVM\n",
    "model_metrics(svm_linear, X_train, X_test, y_train, y_test)"
   ]
  },
  {
   "cell_type": "code",
   "execution_count": 54,
   "metadata": {},
   "outputs": [
    {
     "name": "stdout",
     "output_type": "stream",
     "text": [
      "[准确率]\n",
      "(u'\\u8bad\\u7ec3\\u96c6\\uff1a', u'0.8284')\n",
      "(u'\\u6d4b\\u8bd5\\u96c6\\uff1a', '0.7554')\n",
      "[精准率]\n",
      "(u'\\u8bad\\u7ec3\\u96c6\\uff1a', '0.9786')\n",
      "(u'\\u6d4b\\u8bd5\\u96c6\\uff1a', '0.5208')\n",
      "[召回率]\n",
      "(u'\\u8bad\\u7ec3\\u96c6\\uff1a', '0.3274')\n",
      "(u'\\u6d4b\\u8bd5\\u96c6\\uff1a', '0.1416')\n",
      "[f1-score]\n",
      "(u'\\u8bad\\u7ec3\\u96c6\\uff1a', '0.4906')\n",
      "(u'\\u6d4b\\u8bd5\\u96c6\\uff1a', '0.2227')\n",
      "[auc值]\n",
      "(u'\\u8bad\\u7ec3\\u96c6\\uff1a', '0.9391')\n",
      "(u'\\u6d4b\\u8bd5\\u96c6\\uff1a', '0.7117')\n"
     ]
    },
    {
     "data": {
      "image/png": "[encoded data removed]",
      "text/plain": [
       "<Figure size 432x288 with 1 Axes>"
      ]
     },
     "metadata": {
      "needs_background": "light"
     },
     "output_type": "display_data"
    }
   ],
   "source": [
    "# 多项式SVM\n",
    "model_metrics(svm_poly, X_train, X_test, y_train, y_test)"
   ]
  },
  {
   "cell_type": "code",
   "execution_count": 55,
   "metadata": {},
   "outputs": [
    {
     "name": "stdout",
     "output_type": "stream",
     "text": [
      "[准确率]\n",
      "(u'\\u8bad\\u7ec3\\u96c6\\uff1a', u'0.8266')\n",
      "(u'\\u6d4b\\u8bd5\\u96c6\\uff1a', '0.7975')\n",
      "[精准率]\n",
      "(u'\\u8bad\\u7ec3\\u96c6\\uff1a', '0.9046')\n",
      "(u'\\u6d4b\\u8bd5\\u96c6\\uff1a', '0.7963')\n",
      "[召回率]\n",
      "(u'\\u8bad\\u7ec3\\u96c6\\uff1a', '0.3500')\n",
      "(u'\\u6d4b\\u8bd5\\u96c6\\uff1a', '0.2436')\n",
      "[f1-score]\n",
      "(u'\\u8bad\\u7ec3\\u96c6\\uff1a', '0.5047')\n",
      "(u'\\u6d4b\\u8bd5\\u96c6\\uff1a', '0.3731')\n",
      "[auc值]\n",
      "(u'\\u8bad\\u7ec3\\u96c6\\uff1a', '0.9170')\n",
      "(u'\\u6d4b\\u8bd5\\u96c6\\uff1a', '0.7680')\n"
     ]
    },
    {
     "data": {
      "image/png": "[encoded data removed]",
      "text/plain": [
       "<Figure size 432x288 with 1 Axes>"
      ]
     },
     "metadata": {
      "needs_background": "light"
     },
     "output_type": "display_data"
    }
   ],
   "source": [
    "# 高斯核SVM\n",
    "model_metrics(svm_rbf, X_train, X_test, y_train, y_test)"
   ]
  },
  {
   "cell_type": "code",
   "execution_count": 47,
   "metadata": {},
   "outputs": [
    {
     "name": "stdout",
     "output_type": "stream",
     "text": [
      "[准确率]\n",
      "(u'\\u8bad\\u7ec3\\u96c6\\uff1a', '0.7205')\n",
      "(u'\\u6d4b\\u8bd5\\u96c6\\uff1a', '0.7379')\n",
      "[精准率]\n",
      "(u'\\u8bad\\u7ec3\\u96c6\\uff1a', '0.4373')\n",
      "(u'\\u6d4b\\u8bd5\\u96c6\\uff1a', '0.4662')\n",
      "[召回率]\n",
      "(u'\\u8bad\\u7ec3\\u96c6\\uff1a', '0.3738')\n",
      "(u'\\u6d4b\\u8bd5\\u96c6\\uff1a', '0.4108')\n",
      "[f1-score]\n",
      "(u'\\u8bad\\u7ec3\\u96c6\\uff1a', '0.4031')\n",
      "(u'\\u6d4b\\u8bd5\\u96c6\\uff1a', '0.4367')\n",
      "[auc值]\n",
      "(u'\\u8bad\\u7ec3\\u96c6\\uff1a', '0.6600')\n",
      "(u'\\u6d4b\\u8bd5\\u96c6\\uff1a', '0.6784')\n"
     ]
    },
    {
     "data": {
      "image/png": "[encoded data removed]",
      "text/plain": [
       "<Figure size 432x288 with 1 Axes>"
      ]
     },
     "metadata": {
      "needs_background": "light"
     },
     "output_type": "display_data"
    }
   ],
   "source": [
    "# sigmoid-SVM\n",
    "model_metrics(svm_sigmoid, X_train, X_test, y_train, y_test)"
   ]
  },
  {
   "cell_type": "code",
   "execution_count": 48,
   "metadata": {},
   "outputs": [
    {
     "name": "stdout",
     "output_type": "stream",
     "text": [
      "[准确率]\n",
      "(u'\\u8bad\\u7ec3\\u96c6\\uff1a', '0.7920')\n",
      "(u'\\u6d4b\\u8bd5\\u96c6\\uff1a', '0.7737')\n",
      "[精准率]\n",
      "(u'\\u8bad\\u7ec3\\u96c6\\uff1a', '0.6581')\n",
      "(u'\\u6d4b\\u8bd5\\u96c6\\uff1a', '0.5862')\n",
      "[召回率]\n",
      "(u'\\u8bad\\u7ec3\\u96c6\\uff1a', '0.3667')\n",
      "(u'\\u6d4b\\u8bd5\\u96c6\\uff1a', '0.2890')\n",
      "[f1-score]\n",
      "(u'\\u8bad\\u7ec3\\u96c6\\uff1a', '0.4709')\n",
      "(u'\\u6d4b\\u8bd5\\u96c6\\uff1a', '0.3871')\n",
      "[auc值]\n",
      "(u'\\u8bad\\u7ec3\\u96c6\\uff1a', '0.7727')\n",
      "(u'\\u6d4b\\u8bd5\\u96c6\\uff1a', '0.7468')\n"
     ]
    },
    {
     "data": {
      "image/png": "[encoded data removed]",
      "text/plain": [
       "<Figure size 432x288 with 1 Axes>"
      ]
     },
     "metadata": {
      "needs_background": "light"
     },
     "output_type": "display_data"
    }
   ],
   "source": [
    "# 决策树\n",
    "model_metrics(dt, X_train, X_test, y_train, y_test)"
   ]
  },
  {
   "cell_type": "code",
   "execution_count": 49,
   "metadata": {},
   "outputs": [
    {
     "name": "stdout",
     "output_type": "stream",
     "text": [
      "[准确率]\n",
      "(u'\\u8bad\\u7ec3\\u96c6\\uff1a', '0.8521')\n",
      "(u'\\u6d4b\\u8bd5\\u96c6\\uff1a', '0.8045')\n",
      "[精准率]\n",
      "(u'\\u8bad\\u7ec3\\u96c6\\uff1a', '0.8718')\n",
      "(u'\\u6d4b\\u8bd5\\u96c6\\uff1a', '0.7079')\n",
      "[召回率]\n",
      "(u'\\u8bad\\u7ec3\\u96c6\\uff1a', '0.4857')\n",
      "(u'\\u6d4b\\u8bd5\\u96c6\\uff1a', '0.3569')\n",
      "[f1-score]\n",
      "(u'\\u8bad\\u7ec3\\u96c6\\uff1a', '0.6239')\n",
      "(u'\\u6d4b\\u8bd5\\u96c6\\uff1a', '0.4746')\n",
      "[auc值]\n",
      "(u'\\u8bad\\u7ec3\\u96c6\\uff1a', '0.9166')\n",
      "(u'\\u6d4b\\u8bd5\\u96c6\\uff1a', '0.7972')\n"
     ]
    },
    {
     "data": {
      "image/png": "[encoded data removed]",
      "text/plain": [
       "<Figure size 432x288 with 1 Axes>"
      ]
     },
     "metadata": {
      "needs_background": "light"
     },
     "output_type": "display_data"
    }
   ],
   "source": [
    "# XGBoost\n",
    "model_metrics(xgb, X_train, X_test, y_train, y_test)"
   ]
  },
  {
   "cell_type": "code",
   "execution_count": 50,
   "metadata": {},
   "outputs": [
    {
     "name": "stdout",
     "output_type": "stream",
     "text": [
      "[准确率]\n",
      "(u'\\u8bad\\u7ec3\\u96c6\\uff1a', '0.9949')\n",
      "(u'\\u6d4b\\u8bd5\\u96c6\\uff1a', '0.7961')\n",
      "[精准率]\n",
      "(u'\\u8bad\\u7ec3\\u96c6\\uff1a', '1.0000')\n",
      "(u'\\u6d4b\\u8bd5\\u96c6\\uff1a', '0.6550')\n",
      "[召回率]\n",
      "(u'\\u8bad\\u7ec3\\u96c6\\uff1a', '0.9798')\n",
      "(u'\\u6d4b\\u8bd5\\u96c6\\uff1a', '0.3711')\n",
      "[f1-score]\n",
      "(u'\\u8bad\\u7ec3\\u96c6\\uff1a', '0.9898')\n",
      "(u'\\u6d4b\\u8bd5\\u96c6\\uff1a', '0.4738')\n",
      "[auc值]\n",
      "(u'\\u8bad\\u7ec3\\u96c6\\uff1a', '1.0000')\n",
      "(u'\\u6d4b\\u8bd5\\u96c6\\uff1a', '0.7869')\n"
     ]
    },
    {
     "data": {
      "image/png": "[encoded data removed]",
      "text/plain": [
       "<Figure size 432x288 with 1 Axes>"
      ]
     },
     "metadata": {
      "needs_background": "light"
     },
     "output_type": "display_data"
    }
   ],
   "source": [
    "# lightGBM\n",
    "model_metrics(lgb, X_train, X_test, y_train, y_test)"
   ]
  },
  {
   "cell_type": "code",
   "execution_count": null,
   "metadata": {},
   "outputs": [],
   "source": []
  }
 ],
 "metadata": {
  "kernelspec": {
   "display_name": "Python 2",
   "language": "python",
   "name": "python2"
  },
  "language_info": {
   "codemirror_mode": {
    "name": "ipython",
    "version": 2
   },
   "file_extension": ".py",
   "mimetype": "text/x-python",
   "name": "python",
   "nbconvert_exporter": "python",
   "pygments_lexer": "ipython2",
   "version": "2.7.15"
  },
  "toc": {
   "nav_menu": {},
   "number_sections": true,
   "sideBar": true,
   "skip_h1_title": false,
   "title_cell": "Table of Contents",
   "title_sidebar": "Contents",
   "toc_cell": true,
   "toc_position": {},
   "toc_section_display": true,
   "toc_window_display": false
  }
 },
 "nbformat": 4,
 "nbformat_minor": 2
}
